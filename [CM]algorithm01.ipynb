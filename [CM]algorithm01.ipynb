{
 "cells": [
  {
   "cell_type": "markdown",
   "id": "tender-banking",
   "metadata": {},
   "source": [
    "# 1장 1-n까지의 합 구하기"
   ]
  },
  {
   "cell_type": "code",
   "execution_count": 6,
   "id": "superior-madrid",
   "metadata": {
    "ExecuteTime": {
     "end_time": "2021-03-31T15:13:39.755933Z",
     "start_time": "2021-03-31T15:13:39.752568Z"
    }
   },
   "outputs": [
    {
     "name": "stdout",
     "output_type": "stream",
     "text": [
      "55\n",
      "5050\n"
     ]
    }
   ],
   "source": [
    "def sum_n(n):\n",
    "    s = 0\n",
    "    for i in range(1, n+1):\n",
    "        s += i\n",
    "    return s\n",
    "\n",
    "print(sum_n(10))\n",
    "print(sum_n(100))"
   ]
  },
  {
   "cell_type": "code",
   "execution_count": 10,
   "id": "subsequent-associate",
   "metadata": {
    "ExecuteTime": {
     "end_time": "2021-03-31T15:16:31.950659Z",
     "start_time": "2021-03-31T15:16:31.947252Z"
    }
   },
   "outputs": [
    {
     "name": "stdout",
     "output_type": "stream",
     "text": [
      "55\n"
     ]
    }
   ],
   "source": [
    "# 가우스 방법\n",
    "def sum_n1(n):\n",
    "    return n * (n + 1) // 2    # 슬래시 두 개(//)는 정수 나눗셈을 의미\n",
    "    \n",
    "print(sum_n1(10))"
   ]
  },
  {
   "cell_type": "markdown",
   "id": "ranging-knife",
   "metadata": {},
   "source": [
    "### 5. 입력 크기와 계산 횟수\n",
    "입력 크기가 알고리즘의 수행 성능에 영향을 미칠 때가 많다. \n",
    "- 첫번째 알고리즘: 덧셈 n번\n",
    "- 두번째 알고리즘: 덧셈, 곱셈, 나눗셈 각 1번(3번)\n",
    "\n",
    "### 6. 대문자 O 표기법: 계산복잡도 표현\n",
    "'빅 오' 표기법\n",
    "- 첫번째 알고리즘: O(n)   # 필요한 계산 횟수가 입력 크기에 '정비례'할 때     \n",
    "- 두번째 알고리즘: O(1)    # 입력 크기와 계산횟수가 무관할 때\n",
    "\n",
    "빅오 표기법은 알고리즘에서 필요한 계산 횟수를 입력 크기와의 관계로 표현하기 때문에 필요한 계산 횟수가 입력 크기 n과 정비례하면 모두 O(n)이라고 표기한다. 입력 크기 n과 필요한 계산의 횟수가 무관하면(입력 크기가 커져도 계산 시간이 더 늘어나지 않으면) O(1)로 표기. 입력 크기 n과 필요한 계산 횟수와의 관계에 더 주목하는 표현이 빅오 표기법이다.\n",
    "\n",
    "#### 계산복잡도: 시간 복잡도와 공간 복잡도\n",
    "시간 복잡도는 어떤 알고리즘을 수행하는데 얼마나 오랜 시간이 걸리는지 분석한 것. 공간 복잡도는 어떤 알고리즘을 수행하는데 얼마나 많은 공간(메모리/기억 장소)이 필요한지 분석한 것. 이 책에서의 계산 복잡도는 '시간 복잡도'.\n",
    "\n",
    "- 연습문제 1-1  1부터 n까지 연속한 숫자의 제곱의 합을 구하는 프로그램을 for 반복문으로 만들어 보세요(예를 들어 n = 10이라면 12 + 22 +32 + … + 102 = 385를 계산하는 프로그램입니다).\n",
    "\n",
    "- 1-2 연습 문제 1-1 프로그램의 계산 복잡도는 O(1)과 O(n) 중 무엇일까요?\n",
    "\n",
    "- 1-3 1부터 n까지 연속한 숫자의 제곱의 합을 구하는 공식은 $\\frac {n(n+1)(2n+1)}{6}$로 알려져 있습니다. for 반복문 대신 이 공식을 이용하면 알고리즘의 계산 복잡도는 O(1)과 O(n) 중 무엇이 될까요?"
   ]
  },
  {
   "cell_type": "code",
   "execution_count": 45,
   "id": "institutional-maria",
   "metadata": {
    "ExecuteTime": {
     "end_time": "2021-04-01T07:03:34.832381Z",
     "start_time": "2021-04-01T07:03:34.829295Z"
    },
    "scrolled": false
   },
   "outputs": [
    {
     "name": "stdout",
     "output_type": "stream",
     "text": [
      "385\n",
      "338350\n"
     ]
    }
   ],
   "source": [
    "# 연습문제 1\n",
    "def square_n(n):\n",
    "    k = 0\n",
    "    for i in range(1, n+1):\n",
    "        k += i**2\n",
    "    return k\n",
    "print(square_n(10))\n",
    "print(square_n(100))"
   ]
  },
  {
   "cell_type": "markdown",
   "id": "loose-train",
   "metadata": {},
   "source": [
    "2. 계산복잡도: 곱셈 n번, 덧셈 n번. 총 2n번. 그러므로  O(n)"
   ]
  },
  {
   "cell_type": "code",
   "execution_count": 50,
   "id": "traditional-termination",
   "metadata": {
    "ExecuteTime": {
     "end_time": "2021-04-01T07:13:03.708797Z",
     "start_time": "2021-04-01T07:13:03.704882Z"
    },
    "scrolled": true
   },
   "outputs": [
    {
     "name": "stdout",
     "output_type": "stream",
     "text": [
      "385\n",
      "338350\n"
     ]
    }
   ],
   "source": [
    "# 연습문제 3\n",
    "def sq_n(n):\n",
    "    return n * (n + 1) * (2 * n + 1) // 6\n",
    "\n",
    "print(sq_n(10))\n",
    "print(sq_n(100))"
   ]
  },
  {
   "cell_type": "markdown",
   "id": "ordinary-cruise",
   "metadata": {},
   "source": [
    "## 문제 2. 최댓값 찾기\n",
    "\n",
    "주어진 숫자 n 개 중에서 가장 큰 숫자 찾는 알고리즘\n"
   ]
  },
  {
   "cell_type": "code",
   "execution_count": 21,
   "id": "impressive-louisiana",
   "metadata": {
    "ExecuteTime": {
     "end_time": "2021-03-31T16:03:28.060015Z",
     "start_time": "2021-03-31T16:03:28.055943Z"
    }
   },
   "outputs": [
    {
     "name": "stdout",
     "output_type": "stream",
     "text": [
      "92\n"
     ]
    }
   ],
   "source": [
    "def find_max(a):\n",
    "    n = len(a)\n",
    "    max_v = a[0]\n",
    "    for i in range(1, n):\n",
    "        if a[i] > max_v:\n",
    "            max_v = a[i]\n",
    "    return max_v\n",
    "\n",
    "v = [17, 92, 18, 33, 58, 7, 33, 42]\n",
    "print(find_max(v))"
   ]
  },
  {
   "cell_type": "markdown",
   "id": "binary-tuner",
   "metadata": {},
   "source": [
    "### 3. 알고리즘 분석\n",
    "자료 n개 중에서 최댓값을 찾으려면 비교를 n-1번 해야 한다. 따라서 계산 복잡도는 O(n)이다. 계산 복잡도 O(n)의 가장 중요한 특징은 입력 크기와 계산 시간이 대체로 비례한다.\n",
    "\n",
    "\n",
    "리스트에 숫자가 n개 있을 때 가장 큰 값이 있는 위치 번호를 돌려주는 알고리즘을 만들어 보세요."
   ]
  },
  {
   "cell_type": "code",
   "execution_count": 30,
   "id": "mexican-mandate",
   "metadata": {
    "ExecuteTime": {
     "end_time": "2021-04-01T06:25:51.569071Z",
     "start_time": "2021-04-01T06:25:51.554117Z"
    }
   },
   "outputs": [
    {
     "name": "stdout",
     "output_type": "stream",
     "text": [
      "92\n"
     ]
    }
   ],
   "source": [
    "def find_max(a):\n",
    "\n",
    "    n = len(a)             # 입력 크기 n\n",
    "\n",
    "    max_v = a[0]           # 리스트의 첫 번째 값을 최댓값으로 기억\n",
    "\n",
    "    for i in range(1, n):  # 1부터 n -1까지 반복\n",
    "\n",
    "        if a[i] > max_v:   # 이번 값이 현재까지 기억된 최댓값보다 크면\n",
    "\n",
    "            max_v = a[i]   # 최댓값을 변경\n",
    "\n",
    "    return max_v\n",
    "\n",
    " \n",
    "\n",
    "v = [17, 92, 18, 33, 58, 7, 33, 42]\n",
    "\n",
    "print(find_max(v))"
   ]
  },
  {
   "cell_type": "code",
   "execution_count": 31,
   "id": "gentle-contamination",
   "metadata": {
    "ExecuteTime": {
     "end_time": "2021-04-01T06:27:07.685270Z",
     "start_time": "2021-04-01T06:27:07.672473Z"
    }
   },
   "outputs": [
    {
     "name": "stdout",
     "output_type": "stream",
     "text": [
      "1\n"
     ]
    }
   ],
   "source": [
    "def find_max_idx(a):\n",
    "\n",
    "    n = len(a)                 # 입력 크기 n\n",
    "\n",
    "    max_idx = 0                # 리스트 중 0번 위치를 최댓값 위치로 기억\n",
    "\n",
    "    for i in range(1, n):\n",
    "\n",
    "        if a[i] > a[max_idx]:  # 이번 값이 현재까지 기억된 최댓값보다 크면\n",
    "\n",
    "            max_idx = i        # 최댓값의 위치를 변경\n",
    "\n",
    "    return max_idx\n",
    "\n",
    " \n",
    "\n",
    "v = [17, 92, 18, 33, 58, 7, 33, 42]\n",
    "\n",
    "print(find_max_idx(v))"
   ]
  },
  {
   "cell_type": "markdown",
   "id": "previous-sarah",
   "metadata": {},
   "source": [
    "2-1 숫자 n개를 리스트로 입력받아 최솟값을 구하는 프로그램을 만들어 보세요."
   ]
  },
  {
   "cell_type": "code",
   "execution_count": 59,
   "id": "mature-bicycle",
   "metadata": {
    "ExecuteTime": {
     "end_time": "2021-04-01T07:25:56.017876Z",
     "start_time": "2021-04-01T07:25:56.013864Z"
    }
   },
   "outputs": [
    {
     "name": "stdout",
     "output_type": "stream",
     "text": [
      "7\n"
     ]
    }
   ],
   "source": [
    "def min_list(a):\n",
    "    n = len(a)\n",
    "    min_n = a[0]\n",
    "    for i in range(1, n):\n",
    "        if min_n > a[i]:\n",
    "            min_n = a[i]\n",
    "    return min_n\n",
    "\n",
    "v = [17, 92, 18, 33, 58, 7, 33, 42]\n",
    "print(min_list(v))"
   ]
  },
  {
   "cell_type": "markdown",
   "id": "dated-acceptance",
   "metadata": {},
   "source": [
    "## 문제 3. 동명이인 찾기\n",
    "n명의 사람 이름 중에서 같은 이름을 찾아 집합으로 만들어 돌려주는 알고리즘을 만들어 보세요.\n",
    "\n",
    "v = [“Tom”, “Jerry”, “Mike”, “Tom”]"
   ]
  },
  {
   "cell_type": "code",
   "execution_count": 33,
   "id": "waiting-defendant",
   "metadata": {
    "ExecuteTime": {
     "end_time": "2021-04-01T06:27:52.041118Z",
     "start_time": "2021-04-01T06:27:52.014695Z"
    }
   },
   "outputs": [
    {
     "data": {
      "text/plain": [
       "{1, 3}"
      ]
     },
     "execution_count": 33,
     "metadata": {},
     "output_type": "execute_result"
    }
   ],
   "source": [
    "s = {1, 2, 3}\n",
    "\n",
    "s.discard(2)  \n",
    "s"
   ]
  },
  {
   "cell_type": "code",
   "execution_count": 34,
   "id": "criminal-british",
   "metadata": {
    "ExecuteTime": {
     "end_time": "2021-04-01T06:28:03.738523Z",
     "start_time": "2021-04-01T06:28:03.731046Z"
    }
   },
   "outputs": [
    {
     "data": {
      "text/plain": [
       "set()"
      ]
     },
     "execution_count": 34,
     "metadata": {},
     "output_type": "execute_result"
    }
   ],
   "source": [
    "s = {1, 2, 3}\n",
    "\n",
    "s.clear() \n",
    "s"
   ]
  },
  {
   "cell_type": "code",
   "execution_count": 40,
   "id": "threatened-frame",
   "metadata": {
    "ExecuteTime": {
     "end_time": "2021-04-01T06:33:05.529094Z",
     "start_time": "2021-04-01T06:33:05.513347Z"
    }
   },
   "outputs": [
    {
     "name": "stdout",
     "output_type": "stream",
     "text": [
      "{'Tom'}\n",
      "{'Tom', 'Mike'}\n"
     ]
    }
   ],
   "source": [
    "def find_same_name(a):\n",
    "    n = len(a)\n",
    "    result = set()\n",
    "    for i in range(0, n-1):\n",
    "        for j in range(i+1, n):\n",
    "            if a[i] == a[j]:\n",
    "                result.add(a[i])\n",
    "    return result\n",
    "\n",
    "name = [\"Tom\", \"Jerry\", \"Mike\", \"Tom\"] \n",
    "print(find_same_name(name))\n",
    "\n",
    "name2 = [\"Tom\", \"Jerry\", \"Mike\", \"Tom\", \"Mike\"]\n",
    "print(find_same_name(name2))"
   ]
  },
  {
   "cell_type": "markdown",
   "id": "registered-grain",
   "metadata": {},
   "source": [
    "이제 일반적인 입력 크기인 n에 대해서 볼까요?\n",
    "\n",
    "\n",
    "• 0번 위치 이름: n-1번 비교(자기를 제외한 모든 이름과 비교)\n",
    "\n",
    "• 1번 위치 이름: n-2번 비교\n",
    "\n",
    "• 2번 위치 이름: n-3번 비교\n",
    "\n",
    "…\n",
    "\n",
    "• n-2번 위치 이름: 1번 비교\n",
    "\n",
    "• n-1번 위치 이름: 0번 비교\n",
    "\n",
    " \n",
    "\n",
    "결국, 전체 비교 횟수는 0+ 1+ 2 + 3 + 4 + … + (n-1)번, 즉 1부터 n-1까지 의 합입니다.\n",
    "\n",
    "문제 1에서 배운 1부터 n까지의 합을 구하는 공식에 n 대신 n-1을 대입\n",
    "즉 $\\frac {1}{2}n^2 -\\frac {1}{2}n$ 비교.\n",
    "O($n^2$)"
   ]
  },
  {
   "cell_type": "markdown",
   "id": "ideal-liver",
   "metadata": {},
   "source": [
    "3-1 n명 중 두 명을 뽑아 짝을 짓는다고 할 때 짝을 지을 수 있는 모든 조합을 출력하는 알고리즘을 만들어 보세요.\n",
    "\n",
    "예를 들어 입력이 리스트 [\"Tom\", \"Jerry\", \"Mike\"]라면 다음과 같은 세 가지 경우를 출력합니다.\n",
    "\n",
    "Tom - Jerry\n",
    "\n",
    "Tom - Mike\n",
    "\n",
    "Jerry - Mike\n",
    "\n",
    "3-2 다음 식을 각각 대문자 O 표기법으로 표현해 보세요.\n",
    "\n",
    " \n",
    "\n",
    "A. 65536 : O(1)\n",
    "\n",
    "B. n - 1 : O(n)\n",
    "\n",
    "C. $\\frac {2n^2}{3} + 10000n$ : O($n^2$)\n",
    "\n",
    "D. 3n4 - 4n3 + 5n2 - 6n + 7 : $O(n^4)$\n",
    "\n"
   ]
  },
  {
   "cell_type": "code",
   "execution_count": 73,
   "id": "structured-special",
   "metadata": {
    "ExecuteTime": {
     "end_time": "2021-04-01T07:38:16.632069Z",
     "start_time": "2021-04-01T07:38:16.624247Z"
    },
    "scrolled": true
   },
   "outputs": [
    {
     "name": "stdout",
     "output_type": "stream",
     "text": [
      "Tom - Jerry\n",
      "Tom - Mike\n",
      "Jerry - Mike\n",
      "----------\n",
      "Tom - Jerry\n",
      "Tom - Mike\n",
      "Tom - John\n",
      "Jerry - Mike\n",
      "Jerry - John\n",
      "Mike - John\n"
     ]
    }
   ],
   "source": [
    "def print_pair(a):\n",
    "    n = len(a)\n",
    "    for i in range(0, n-1):\n",
    "        for j in range(i+1, n):\n",
    "            print(a[i], \"-\", a[j])\n",
    "    \n",
    "    \n",
    "    \n",
    "a = [\"Tom\", \"Jerry\", \"Mike\"]\n",
    "print_pair(a)\n",
    "print(\"----------\")\n",
    "name2 = [\"Tom\", \"Jerry\", \"Mike\", \"John\"]\n",
    "print_pair(name2)"
   ]
  },
  {
   "cell_type": "markdown",
   "id": "touched-penny",
   "metadata": {},
   "source": [
    "문제1. 약수 구하기\n",
    "\n",
    "양의 정수를 입력 받고 그 수의 약수를 모두 출력하는 프로그램을 작성하십시오.\n",
    "\n",
    "입력\n",
    "양의 정수\n",
    "\n",
    "출력\n",
    "입력된 수의 약수를 공백으로 구분하여 출력\n",
    "\n",
    "예시1)\n",
    "입력 : 20\n",
    "출력 : 1 2 4 5 10 20\n",
    "\n",
    "예시2)\n",
    "입력 : 100\n",
    "출력 : 1 2 4 5 10 20 25 50 100\n"
   ]
  },
  {
   "cell_type": "code",
   "execution_count": 79,
   "id": "distributed-nancy",
   "metadata": {
    "ExecuteTime": {
     "end_time": "2021-04-01T08:06:53.378776Z",
     "start_time": "2021-04-01T08:06:53.374432Z"
    },
    "scrolled": false
   },
   "outputs": [
    {
     "name": "stdout",
     "output_type": "stream",
     "text": [
      "1\n",
      "2\n",
      "4\n",
      "5\n",
      "10\n",
      "20\n",
      "------------\n",
      "1\n",
      "2\n",
      "4\n",
      "5\n",
      "10\n",
      "20\n",
      "25\n",
      "50\n",
      "100\n"
     ]
    }
   ],
   "source": [
    "def get_divisor(a):   # O(n)\n",
    "    for i in range(1, a+1):\n",
    "        if a % i == 0:\n",
    "            print(i)\n",
    "            \n",
    "get_divisor(20)\n",
    "print(\"------------\")\n",
    "get_divisor(100)"
   ]
  },
  {
   "attachments": {
    "Screenshot%20from%202021-04-01%2016-39-50.png": {
     "image/png": "[encoded data removed]"
    }
   },
   "cell_type": "markdown",
   "id": "classified-spain",
   "metadata": {},
   "source": [
    "![Screenshot%20from%202021-04-01%2016-39-50.png](attachment:Screenshot%20from%202021-04-01%2016-39-50.png)"
   ]
  },
  {
   "cell_type": "code",
   "execution_count": 9,
   "id": "pleasant-programmer",
   "metadata": {
    "ExecuteTime": {
     "end_time": "2021-04-06T07:22:51.288077Z",
     "start_time": "2021-04-06T07:22:50.187503Z"
    },
    "scrolled": true
   },
   "outputs": [
    {
     "name": "stdout",
     "output_type": "stream",
     "text": [
      "팀의 수 입력: 4\n",
      "6\n"
     ]
    }
   ],
   "source": [
    "s = 0\n",
    "\n",
    "def solution():\n",
    "    n = int(input(\"팀의 수 입력: \"))\n",
    "    s = n * (n - 1) / 2\n",
    "    return int(s)\n",
    "\n",
    "print(solution())"
   ]
  },
  {
   "cell_type": "markdown",
   "id": "formed-tattoo",
   "metadata": {},
   "source": [
    "문제3. 윤년(Leap Year)\n",
    "\n",
    "아래의 조건을 만족하는 해는 윤년(leap year)이라고 합니다.\n",
    "\n",
    "서력기원으로 연수가 4로 나누어 떨어지는 해는 윤년으로 한다.\n",
    "(2004년, 2008년, 2012년, 2016년, 2020년 ...)\n",
    "이 중에서 100으로 나누어 떨어지는 해는 평년으로 한다.\n",
    "(1900년, 2100년, 2200년, 2300년 ...)\n",
    "그중에 400으로 나누어 떨어지는 해는 윤년으로 둔다.\n",
    "(1600년, 2000년, 2400년 ...)\n",
    "\n",
    "연도를 입력받고 윤년인지 아닌지를 결정하는 프로그램을 작성하십시오.\n",
    "\n",
    "입력        \n",
    "년도(0년도 이상)\n",
    "\n",
    "출력       \n",
    "윤년일 경우; Leap Year      \n",
    "평년일 경우; Not Leap Year\n",
    "\n",
    "\n",
    "예시1)     \n",
    "입력 : 2016   \n",
    "출력 : Leap Year\n",
    "\n",
    "예시2)      \n",
    "입력 : 2018     \n",
    "출력 : Not Leap Year\n"
   ]
  },
  {
   "cell_type": "code",
   "execution_count": 104,
   "id": "logical-webmaster",
   "metadata": {
    "ExecuteTime": {
     "end_time": "2021-04-01T08:45:28.511307Z",
     "start_time": "2021-04-01T08:45:24.598717Z"
    },
    "scrolled": false
   },
   "outputs": [
    {
     "name": "stdout",
     "output_type": "stream",
     "text": [
      "연도를 입력하시오: 1900\n",
      "Not Leap Year\n"
     ]
    }
   ],
   "source": [
    "year = int(input(\"연도를 입력하시오: \"))\n",
    "\n",
    "if (year % 4 == 0) & ((year % 100 != 0) or (year % 400 == 0)):\n",
    "    print(\"Leap Year\")\n",
    "else: print(\"Not Leap Year\")"
   ]
  },
  {
   "cell_type": "code",
   "execution_count": 103,
   "id": "indoor-equation",
   "metadata": {
    "ExecuteTime": {
     "end_time": "2021-04-01T08:44:19.998947Z",
     "start_time": "2021-04-01T08:44:18.094850Z"
    }
   },
   "outputs": [
    {
     "name": "stdout",
     "output_type": "stream",
     "text": [
      "연도를 입력하시오: 1900\n",
      "Not Leap Year\n"
     ]
    }
   ],
   "source": [
    "year = int(input(\"연도를 입력하시오: \"))\n",
    "\n",
    "if year % 4 == 0:\n",
    "    if year % 100 == 0:\n",
    "        if year % 400 == 0:\n",
    "            print(\"Leap Year\")\n",
    "        else: print(\"Not Leap Year\")\n",
    "    else: print(\"Leap Year\")\n",
    "else: print(\"Not Leap Year\")\n",
    "    "
   ]
  },
  {
   "cell_type": "markdown",
   "id": "loaded-burlington",
   "metadata": {},
   "source": [
    "문제 설명\n",
    "배열 array의 i번째 숫자부터 j번째 숫자까지 자르고 정렬했을 때, k번째에 있는 수를 구하려 합니다.\n",
    "\n",
    "예를 들어 array가 [1, 5, 2, 6, 3, 7, 4], i = 2, j = 5, k = 3이라면\n",
    "\n",
    "1. array의 2번째부터 5번째까지 자르면 [5, 2, 6, 3]입니다.\n",
    "2. 1에서 나온 배열을 정렬하면 [2, 3, 5, 6]입니다.\n",
    "3. 2에서 나온 배열의 3번째 숫자는 5입니다.\n",
    "\n",
    "배열 array, [i, j, k]를 원소로 가진 2차원 배열 commands가 매개변수로 주어질 때, commands의 모든 원소에 대해 앞서 설명한 연산을 적용했을 때 나온 결과를 배열에 담아 return 하도록 solution 함수를 작성해주세요.\n",
    "\n",
    "제한사항\n",
    "- array의 길이는 1 이상 100 이하입니다.\n",
    "- array의 각 원소는 1 이상 100 이하입니다.\n",
    "- commands의 길이는 1 이상 50 이하입니다.\n",
    "- commands의 각 원소는 길이가 3입니다.\n",
    "\n",
    "\n",
    "array\t\t\n",
    "[1, 5, 2, 6, 3, 7, 4]\t      \n",
    "commands[[2, 5, 3], [4, 4, 1], [1, 7, 3]]\t \n",
    "return [5, 6, 3]"
   ]
  },
  {
   "cell_type": "code",
   "execution_count": 131,
   "id": "associate-south",
   "metadata": {
    "ExecuteTime": {
     "end_time": "2021-04-01T09:09:38.041991Z",
     "start_time": "2021-04-01T09:09:38.021551Z"
    }
   },
   "outputs": [
    {
     "data": {
      "text/plain": [
       "[5, 6, 3]"
      ]
     },
     "execution_count": 131,
     "metadata": {},
     "output_type": "execute_result"
    }
   ],
   "source": [
    "def solution(array, commands):\n",
    "    answer = []\n",
    "    for l in range(len(commands)):\n",
    "        i, j, k = commands[l][0], commands[l][1], commands[l][2]\n",
    "        a = array[i-1:j]\n",
    "        a.sort()\n",
    "        answer.append(a[k-1])\n",
    "    return answer\n",
    "array = [1, 5, 2, 6, 3, 7, 4]\n",
    "commands = [[2, 5, 3], [4, 4, 1], [1, 7, 3]]\n",
    "\n",
    "solution(array, commands)"
   ]
  },
  {
   "cell_type": "code",
   "execution_count": 133,
   "id": "cognitive-version",
   "metadata": {
    "ExecuteTime": {
     "end_time": "2021-04-01T09:13:28.111583Z",
     "start_time": "2021-04-01T09:13:28.099710Z"
    }
   },
   "outputs": [],
   "source": [
    " # 다른 사람 풀이\n",
    "def solution(array, commands):\n",
    "    return list(map(lambda x:sorted(array[x[0]-1:x[1]])[x[2]-1], commands))"
   ]
  },
  {
   "cell_type": "code",
   "execution_count": 134,
   "id": "alert-parcel",
   "metadata": {
    "ExecuteTime": {
     "end_time": "2021-04-01T09:13:54.138497Z",
     "start_time": "2021-04-01T09:13:54.135108Z"
    }
   },
   "outputs": [],
   "source": [
    "def solution(array, commands):\n",
    "    answer = []\n",
    "    for command in commands:\n",
    "        i,j,k = command\n",
    "        answer.append(list(sorted(array[i-1:j]))[k-1])\n",
    "    return answer\n"
   ]
  },
  {
   "cell_type": "code",
   "execution_count": 20,
   "id": "wound-painting",
   "metadata": {
    "ExecuteTime": {
     "end_time": "2021-04-06T07:38:56.528324Z",
     "start_time": "2021-04-06T07:38:56.507118Z"
    }
   },
   "outputs": [
    {
     "data": {
      "text/plain": [
       "[5, 6, 3]"
      ]
     },
     "execution_count": 20,
     "metadata": {},
     "output_type": "execute_result"
    }
   ],
   "source": [
    "def solution(array, commands):\n",
    "    answer = []\n",
    "    for l in range(len(commands)):\n",
    "        i, j, k = commands[l][0], commands[l][1], commands[l][2]\n",
    "        s = sorted(array[i-1:j])\n",
    "        answer.append(s[k-1])\n",
    "    return answer\n",
    "    \n",
    "    \n",
    "    \n",
    "array = [1, 5, 2, 6, 3, 7, 4]\n",
    "commands = [[2, 5, 3], [4, 4, 1], [1, 7, 3]]\n",
    "\n",
    "solution(array, commands)"
   ]
  },
  {
   "cell_type": "code",
   "execution_count": 122,
   "id": "jewish-hearts",
   "metadata": {
    "ExecuteTime": {
     "end_time": "2021-04-01T09:03:18.153683Z",
     "start_time": "2021-04-01T09:03:18.135385Z"
    }
   },
   "outputs": [
    {
     "name": "stdout",
     "output_type": "stream",
     "text": [
      "[2, 3, 5, 6]\n"
     ]
    },
    {
     "data": {
      "text/plain": [
       "[5]"
      ]
     },
     "execution_count": 122,
     "metadata": {},
     "output_type": "execute_result"
    }
   ],
   "source": [
    "def solution(array, commands):\n",
    "    answer = []\n",
    "    i, j, k = commands[0], commands[1], commands[2]\n",
    "    a = array[i-1:j]\n",
    "    a.sort()\n",
    "    print(a)\n",
    "    answer.append(a[k-1])\n",
    "    return answer\n",
    "\n",
    "solution([1, 5, 2, 6, 3, 7, 4], [2, 5, 3])"
   ]
  },
  {
   "cell_type": "markdown",
   "id": "tracked-amber",
   "metadata": {},
   "source": [
    "5. 두 정수 사이의 합\n",
    "\n",
    "문제 설명      \n",
    "두 정수 a, b가 주어졌을 때 a와 b 사이에 속한 모든 정수의 합을 리턴하는 함수, solution을 완성하세요.       \n",
    "예를 들어 a = 3, b = 5인 경우, 3 + 4 + 5 = 12이므로 12를 리턴합니다.\n",
    "\n",
    "제한 조건\n",
    "- a와 b가 같은 경우는 둘 중 아무 수나 리턴하세요.\n",
    "- a와 b는 -10,000,000 이상 10,000,000 이하인 정수입니다.\n",
    "- a와 b의 대소관계는 정해져있지 않습니다.\n",
    "\n",
    "\n",
    "|a\t|b\t|return|\n",
    "|--|--|---|\n",
    "|3\t|5\t|12|\n",
    "|3\t|3\t|3|\n",
    "|5\t|3\t|12|"
   ]
  },
  {
   "cell_type": "code",
   "execution_count": 105,
   "id": "owned-embassy",
   "metadata": {
    "ExecuteTime": {
     "end_time": "2021-04-01T08:50:32.197130Z",
     "start_time": "2021-04-01T08:50:32.194102Z"
    }
   },
   "outputs": [],
   "source": [
    "def solution(a, b):\n",
    "    answer = 0\n",
    "    for i in range(min(a, b), max(a, b) + 1):\n",
    "        answer += i\n",
    "    return answer"
   ]
  },
  {
   "cell_type": "code",
   "execution_count": 109,
   "id": "sensitive-modern",
   "metadata": {
    "ExecuteTime": {
     "end_time": "2021-04-01T08:50:56.939227Z",
     "start_time": "2021-04-01T08:50:56.928473Z"
    }
   },
   "outputs": [
    {
     "data": {
      "text/plain": [
       "22"
      ]
     },
     "execution_count": 109,
     "metadata": {},
     "output_type": "execute_result"
    }
   ],
   "source": [
    "solution(4, 7)"
   ]
  },
  {
   "cell_type": "markdown",
   "id": "cognitive-investigator",
   "metadata": {},
   "source": [
    "6. 입력으로 1개의 정수 N 이 주어진다.\n",
    "\n",
    "정수 N 의 약수를 오름차순으로 출력하는 프로그램을 작성하라.\n",
    "\n",
    "[제약사항]\n",
    "\n",
    "N은 1이상 1,000이하의 정수이다. (1 ≤ N ≤ 1,000)\n",
    "\n",
    "[입력]\n",
    "\n",
    "입력으로 정수 N 이 주어진다.\n",
    "\n",
    "[출력]\n",
    "\n",
    "정수 N 의 모든 약수를 오름차순으로 출력한다.\n",
    "\n",
    "[ ]\n"
   ]
  },
  {
   "cell_type": "code",
   "execution_count": 145,
   "id": "governmental-aggregate",
   "metadata": {
    "ExecuteTime": {
     "end_time": "2021-04-01T09:20:24.985845Z",
     "start_time": "2021-04-01T09:20:24.982166Z"
    }
   },
   "outputs": [
    {
     "data": {
      "text/plain": [
       "[1, 2, 5, 10]"
      ]
     },
     "execution_count": 145,
     "metadata": {},
     "output_type": "execute_result"
    }
   ],
   "source": [
    "divisor = []\n",
    "def solution(n):\n",
    "    for i in range(1, n+1):\n",
    "        if n % i == 0:\n",
    "            divisor.append(i)\n",
    "    return divisor\n",
    "\n",
    "solution(10)"
   ]
  },
  {
   "cell_type": "markdown",
   "id": "technological-thriller",
   "metadata": {},
   "source": [
    "7. 중간값 출력       \n",
    "중간값은 통계 집단의 수치를 크기 순으로 배열 했을 때 전체의 중앙에 위치하는 수치를 뜻한다.\n",
    "\n",
    "입력으로 N 개의 점수가 주어졌을 때, 중간값을 출력하라.\n",
    "\n",
    "[예제]\n",
    "\n",
    "N이 9 이고, 9개의 점수가 아래와 같이 주어질 경우,\n",
    "\n",
    "85 72 38 80 69 65 68 96 22\n",
    "\n",
    "69이 중간값이 된다.\n",
    "\n",
    "[제약 사항]\n",
    "\n",
    "N은 항상 홀수로 주어진다.\n",
    "\n",
    "N은 9이상 199 이하의 정수이다. (9 ≤ N ≤ 199)\n",
    "\n",
    "[입력]\n",
    "\n",
    "입력은 첫 줄에 N 이 주어진다.\n",
    "\n",
    "둘째 줄에 N 개의 점수가 주어진다.\n",
    "\n",
    "[출력]\n",
    "\n",
    "N 개의 점수들 중, 중간값에 해당하는 점수를 정답으로 출력한다."
   ]
  },
  {
   "cell_type": "code",
   "execution_count": 151,
   "id": "empty-manor",
   "metadata": {
    "ExecuteTime": {
     "end_time": "2021-04-01T10:13:17.680358Z",
     "start_time": "2021-04-01T10:13:17.676632Z"
    }
   },
   "outputs": [
    {
     "data": {
      "text/plain": [
       "69"
      ]
     },
     "execution_count": 151,
     "metadata": {},
     "output_type": "execute_result"
    }
   ],
   "source": [
    "def get_median(score):\n",
    "    median_idx = len(score) // 2\n",
    "    return score[median_idx]\n",
    "\n",
    "score = [85, 72, 38, 80, 69, 65, 68, 96, 22]\n",
    "get_median(score)"
   ]
  },
  {
   "cell_type": "code",
   "execution_count": 167,
   "id": "waiting-transmission",
   "metadata": {
    "ExecuteTime": {
     "end_time": "2021-04-01T10:23:49.620307Z",
     "start_time": "2021-04-01T10:23:49.617277Z"
    }
   },
   "outputs": [],
   "source": [
    "# 정렬해서 중앙값 구하기\n",
    "def get_median(a):\n",
    "    a.sort()\n",
    "    center_idx = len(a) // 2\n",
    "    if len(a) % 2 == 1:\n",
    "        return a[center_idx]\n",
    "    return (a[center_idx-1] + a[center_idx]) // 2"
   ]
  },
  {
   "cell_type": "code",
   "execution_count": 168,
   "id": "periodic-israel",
   "metadata": {
    "ExecuteTime": {
     "end_time": "2021-04-01T10:23:50.285517Z",
     "start_time": "2021-04-01T10:23:50.281485Z"
    }
   },
   "outputs": [
    {
     "data": {
      "text/plain": [
       "69"
      ]
     },
     "execution_count": 168,
     "metadata": {},
     "output_type": "execute_result"
    }
   ],
   "source": [
    "score = [85, 72, 38, 80, 69, 65, 68, 96, 22]\n",
    "get_median(score)"
   ]
  },
  {
   "cell_type": "code",
   "execution_count": 169,
   "id": "incorporate-holder",
   "metadata": {
    "ExecuteTime": {
     "end_time": "2021-04-01T10:23:50.875930Z",
     "start_time": "2021-04-01T10:23:50.873028Z"
    }
   },
   "outputs": [
    {
     "data": {
      "text/plain": [
       "9"
      ]
     },
     "execution_count": 169,
     "metadata": {},
     "output_type": "execute_result"
    }
   ],
   "source": [
    "a = [7, 9, 14]\n",
    "get_median(a)"
   ]
  },
  {
   "cell_type": "code",
   "execution_count": 170,
   "id": "floppy-french",
   "metadata": {
    "ExecuteTime": {
     "end_time": "2021-04-01T10:23:51.348965Z",
     "start_time": "2021-04-01T10:23:51.346109Z"
    }
   },
   "outputs": [
    {
     "data": {
      "text/plain": [
       "33"
      ]
     },
     "execution_count": 170,
     "metadata": {},
     "output_type": "execute_result"
    }
   ],
   "source": [
    "b = [24, 31, 35, 49]\n",
    "get_median(b)"
   ]
  },
  {
   "cell_type": "code",
   "execution_count": 171,
   "id": "acceptable-kidney",
   "metadata": {
    "ExecuteTime": {
     "end_time": "2021-04-01T10:23:51.795335Z",
     "start_time": "2021-04-01T10:23:51.792436Z"
    }
   },
   "outputs": [
    {
     "data": {
      "text/plain": [
       "37"
      ]
     },
     "execution_count": 171,
     "metadata": {},
     "output_type": "execute_result"
    }
   ],
   "source": [
    "c = [17, 37, 37, 47, 57] \n",
    "get_median(c)"
   ]
  }
 ],
 "metadata": {
  "kernelspec": {
   "display_name": "aiffel",
   "language": "python",
   "name": "aiffel"
  },
  "language_info": {
   "codemirror_mode": {
    "name": "ipython",
    "version": 3
   },
   "file_extension": ".py",
   "mimetype": "text/x-python",
   "name": "python",
   "nbconvert_exporter": "python",
   "pygments_lexer": "ipython3",
   "version": "3.7.10"
  }
 },
 "nbformat": 4,
 "nbformat_minor": 5
}
